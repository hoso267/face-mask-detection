{
 "cells": [
  {
   "cell_type": "code",
   "execution_count": null,
   "metadata": {},
   "outputs": [],
   "source": [
    "import cv2\n",
    "from matplotlib import pyplot as plt\n",
    "classifier = cv2.CascadeClassifier(cv2.data.haarcascades + 'haarcascade_frontalface_default.xml')\n",
    "cv2.data.haarcascades\n",
    "imag = cv2.imread('C:/Users/sahs2/Downloads/face.jpg')\n",
    "graye = cv2.cvtColor(imag, cv2.COLOR_BGR2GRAY)\n",
    "\n",
    "faces = classifier.detectMultiScale(graye, scaleFactor =1.01 , minNeighbors = 6, minSize=(50,50))\n",
    "eyeCascade = cv2.CascadeClassifier(cv2.data.haarcascades + 'haarcascade_eye.xml')\n",
    "smileCascade = cv2.CascadeClassifier(cv2.data.haarcascades +'haarcascade_smile.xml')\n",
    "font= cv2.FONT_HERSHEY_DUPLEX\n",
    "for face in faces:\n",
    "    x, y, w, h = face \n",
    "    cv2.rectangle(imag, (x, y), (x+w, y+h), (255, 0, 0), 2)\n",
    "    cv2.putText(imag, 'PETER' , (x,y-10), font, 2,(0, 0, 255), 3, cv2.LINE_8)\n",
    "    \n",
    "    face_roi = graye[y:y+h, x:x+w]\n",
    "    eyes = eyeCascade.detectMultiScale(face_roi, scaleFactor=1.03, minNeighbors=6, minSize=(10,10))\n",
    "\n",
    "    for eye in eyes:\n",
    "        x2, y2, w2, h2 = eye \n",
    "        cv2.rectangle(imag, (x+x2, y+y2), (x+x2+w2, y+y2+h2), (0, 255, 0), 3)\n",
    "        cv2.putText(imag, 'eye' , (x+x2,y+y2-10), font, 1.01,(0, 0, 255), 2, cv2.LINE_8)\n",
    "        smiles = smileCascade.detectMultiScale(face_roi, scaleFactor=1.85, minNeighbors=6, minSize=(20,20))\n",
    "        for (sx, sy, sw, sh) in smiles:\n",
    "            cv2.rectangle(imag, (x+sx, y+sy), ((x+sx +sw), (y+sy + sh)), (0, 0, 255), 2)\n",
    "            cv2.putText(imag, 'smile' , (x+sx,x+sy-10), font, 1.8,(0, 0, 255), 2, cv2.LINE_8)\n",
    "    \n",
    "\n",
    "\n",
    "\n",
    "plt.figure(figsize=(10, 10))\n",
    "plt.imshow(imag[:,:,::-1]);"
   ]
  }
 ],
 "metadata": {
  "kernelspec": {
   "display_name": "Python 3.10.5 64-bit",
   "language": "python",
   "name": "python3"
  },
  "language_info": {
   "name": "python",
   "version": "3.10.5"
  },
  "orig_nbformat": 4,
  "vscode": {
   "interpreter": {
    "hash": "f43172775c0b5d698bc6f80ad4730275c2fb9f8b5427894fb8adc6d452abd61f"
   }
  }
 },
 "nbformat": 4,
 "nbformat_minor": 2
}
